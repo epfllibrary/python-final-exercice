{
 "cells": [
  {
   "cell_type": "markdown",
   "metadata": {},
   "source": [
    "# Remove solution from jupyter\n",
    "\n",
    "\n",
    "This notebook is used to generate the ```Final Exercices```notebook from ```Final Exercices Solutions```\n",
    "\n",
    "It looks for cells starting with ```# SOLUTION:```and removes them.\n",
    "\n",
    "**This notebook is not for the students**"
   ]
  },
  {
   "cell_type": "code",
   "execution_count": null,
   "metadata": {},
   "outputs": [],
   "source": [
    "import json\n",
    "import re\n",
    "\n",
    "def stripcell(cell, pattern):\n",
    "    \"\"\"Check if the first line of the cell's content matches `pattern`\"\"\"\n",
    "    if cell[\"cell_type\"] != \"code\":\n",
    "        return False\n",
    "    content = cell[\"source\"]    \n",
    "    return ( len(content) > 0 and re.search(pattern, content[0]) )\n",
    "\n",
    "pattern = r\"^# SOLUTION:\"\n",
    "\n",
    "struct = json.load(open(\"Final Exercices Solution.ipynb\"))    \n",
    "cells = struct[\"cells\"]\n",
    "struct[\"cells\"] = [ c for c in cells if not stripcell(c, pattern) ]\n",
    "\n",
    "with open('Final Exercices.ipynb', 'w') as f:\n",
    "  json.dump(struct, f, ensure_ascii=False)"
   ]
  },
  {
   "cell_type": "code",
   "execution_count": null,
   "metadata": {},
   "outputs": [],
   "source": []
  },
  {
   "cell_type": "code",
   "execution_count": null,
   "metadata": {},
   "outputs": [],
   "source": []
  }
 ],
 "metadata": {
  "kernelspec": {
   "display_name": "Python 3",
   "language": "python",
   "name": "python3"
  },
  "language_info": {
   "codemirror_mode": {
    "name": "ipython",
    "version": 3
   },
   "file_extension": ".py",
   "mimetype": "text/x-python",
   "name": "python",
   "nbconvert_exporter": "python",
   "pygments_lexer": "ipython3",
   "version": "3.7.7"
  }
 },
 "nbformat": 4,
 "nbformat_minor": 4
}
